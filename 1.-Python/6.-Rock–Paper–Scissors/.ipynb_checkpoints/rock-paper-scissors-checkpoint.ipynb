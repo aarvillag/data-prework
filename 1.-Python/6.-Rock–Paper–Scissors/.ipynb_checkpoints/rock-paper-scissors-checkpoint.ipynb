{
 "cells": [
  {
   "cell_type": "markdown",
   "metadata": {},
   "source": [
    "<img src=\"https://bit.ly/2VnXWr2\" width=\"100\" align=\"left\">"
   ]
  },
  {
   "cell_type": "markdown",
   "metadata": {},
   "source": [
    "# Rock, Paper & Scissors\n",
    "\n",
    "Let's play the famous game against our computer. You can check the rules [here](https://en.wikipedia.org/wiki/Rock%E2%80%93paper%E2%80%93scissors). \n",
    "\n",
    "## Task\n",
    "Create a program that imitates the playability of the well known game of rock, paper, scissors. Follow the guidelines provided.\n",
    "\n",
    "## Tools\n",
    "1. Loop: **for/while**\n",
    "2. Functions: **input(), print()...**\n",
    "3. Conditional statements: **if, elif, else**\n",
    "4. Definition of functions. Modular programming\n",
    "5. Import modules\n",
    "\n",
    "**To solve this challenge, the use of functions is recommended.**\n",
    "\n",
    "#### 1. Import the choice function of the random module."
   ]
  },
  {
   "cell_type": "code",
   "execution_count": 48,
   "metadata": {},
   "outputs": [],
   "source": [
    "from random import choice\n"
   ]
  },
  {
   "cell_type": "markdown",
   "metadata": {},
   "source": [
    "#### 2. Create a list that includes the 3 possible gesture options of the game: 'rock', 'paper' or 'scissors'. Store the list in a variable called `gestures`."
   ]
  },
  {
   "cell_type": "code",
   "execution_count": 49,
   "metadata": {},
   "outputs": [],
   "source": [
    "gesture=['rock','paper','scissors']\n"
   ]
  },
  {
   "cell_type": "markdown",
   "metadata": {},
   "source": [
    "#### 3. Create a variable called `n_rounds` to store the maximum number of rounds to play in a game. \n",
    "Remember that the number of rounds must be odd: 1, 3, 5, ..."
   ]
  },
  {
   "cell_type": "code",
   "execution_count": 50,
   "metadata": {},
   "outputs": [],
   "source": [
    "n_rounds=0\n"
   ]
  },
  {
   "cell_type": "markdown",
   "metadata": {},
   "source": [
    "#### 4. Create a variable called `rounds_to_win` to store the number of rounds that a player must win to win the game.\n",
    "**Hint**: the value stored in `rounds_to_win` depends on the value of `n_rounds`. "
   ]
  },
  {
   "cell_type": "code",
   "execution_count": 51,
   "metadata": {},
   "outputs": [],
   "source": [
    "rounds_to_win=0"
   ]
  },
  {
   "cell_type": "markdown",
   "metadata": {},
   "source": [
    "#### 5. Create two variables to store the number of rounds that the computer and the player have won. Call these variables `cpu_score` and `player_score`."
   ]
  },
  {
   "cell_type": "code",
   "execution_count": 52,
   "metadata": {},
   "outputs": [],
   "source": [
    "cpu_score=0\n",
    "player_score=0\n",
    "tie_score=0"
   ]
  },
  {
   "cell_type": "markdown",
   "metadata": {},
   "source": [
    "#### 6. Define a function that randomly returns one of the 3 gesture options.\n",
    "You will use this function to simulate the gesture choice of the computer. "
   ]
  },
  {
   "cell_type": "code",
   "execution_count": 53,
   "metadata": {},
   "outputs": [],
   "source": [
    "def cpu_play():\n",
    "    cpu_selection=choice(gesture)\n",
    "    print(\"CPU selection:\", cpu_selection)\n",
    "    return cpu_selection\n"
   ]
  },
  {
   "cell_type": "markdown",
   "metadata": {},
   "source": [
    "#### 7. Define a function that asks the player which is the gesture he or she wants to show: 'rock', 'paper' or 'scissors'.\n",
    "The player should only be allowed to choose one of the 3 gesture options. If the player's choice is not rock, paper or scissors, keep asking until it is."
   ]
  },
  {
   "cell_type": "code",
   "execution_count": 54,
   "metadata": {},
   "outputs": [],
   "source": [
    "def player_play():\n",
    "    player_choice=0\n",
    "    while (player_choice!=1 & player_choice!=2 & player_choice!=3):\n",
    "        print(\"Please select your choice (1,2,3):\\n 1 = rock\\n 2 = paper\\n 3 = scissor\\n\")\n",
    "        player_choice=int(input())\n",
    "    if (player_choice==1):\n",
    "        player_selection='rock'\n",
    "    elif (player_choice==2):\n",
    "        player_selection='paper'\n",
    "    else:\n",
    "        player_selection='scissor'\n",
    "    print(\"Player selection:\", player_selection)\n",
    "    return player_selection\n"
   ]
  },
  {
   "cell_type": "markdown",
   "metadata": {},
   "source": [
    "#### 8. Define a function that checks who won a round. \n",
    "The function should return 0 if there is a tie, 1 if the computer wins and 2 if the player wins."
   ]
  },
  {
   "cell_type": "code",
   "execution_count": 55,
   "metadata": {},
   "outputs": [],
   "source": [
    "def who_won_a_round(cpu_round,player_round):\n",
    "    if (cpu_round=='rock'):\n",
    "        if (player_round=='rock'):\n",
    "            return 0\n",
    "        elif (player_round=='paper'):\n",
    "            return 2\n",
    "        else:\n",
    "            return 1\n",
    "    elif (cpu_round=='paper'):\n",
    "        if (player_round=='rock'):\n",
    "            return 1\n",
    "        elif (player_round=='paper'):\n",
    "            return 0\n",
    "        else:\n",
    "            return 2\n",
    "    else:\n",
    "        if (player_round=='rock'):\n",
    "            return 2\n",
    "        elif (player_round=='paper'):\n",
    "            return 1\n",
    "        else:\n",
    "            return 0\n"
   ]
  },
  {
   "cell_type": "markdown",
   "metadata": {},
   "source": [
    "#### 9. Define a function that prints the choice of the computer, the choice of the player and a message that announces who won the current round. \n",
    "You should also use this function to update the variables that count the number of rounds that the computer and the player have won. The score of the winner increases by one point. If there is a tie, the score does not increase."
   ]
  },
  {
   "cell_type": "code",
   "execution_count": 56,
   "metadata": {},
   "outputs": [],
   "source": [
    "def round_result(choice_compu,choice_play,winner):\n",
    "    global cpu_score\n",
    "    global player_score\n",
    "    global tie_score\n",
    "    print(\"CPU choice = \",choice_compu)\n",
    "    print(\"Player choice = \",choice_play)\n",
    "    if (winner==1):\n",
    "        print(\"This round is for CPU\")\n",
    "        cpu_score=cpu_score+1\n",
    "    elif (winner==2):\n",
    "        print(\"This round is for Player\")\n",
    "        player_score=player_score+1\n",
    "        print(\"Player score is \",player_score)\n",
    "    else:\n",
    "        print(\"This round is a tie\")\n",
    "        tie_score=tie_score+1\n",
    "    print(\"CPU score is \",cpu_score, \" <<<>>> Player score is \",player_score)"
   ]
  },
  {
   "cell_type": "markdown",
   "metadata": {},
   "source": [
    "#### 10. Now it's time to code the execution of the game using the functions and variables you defined above. \n",
    "\n",
    "First, create a loop structure that repeats while no player reaches the minimum score necessary to win and the number of rounds is less than the maximum number of rounds to play in a game.  \n",
    "\n",
    "Inside the loop, use the functions and variables above to create the execution of a round: ask for the player's choice, generate the random choice of the computer, show the round results, update the scores, etc. "
   ]
  },
  {
   "cell_type": "code",
   "execution_count": 57,
   "metadata": {},
   "outputs": [
    {
     "name": "stdout",
     "output_type": "stream",
     "text": [
      "Please enter the maximum number of rounds to play in this game. It must be an odd number.\n",
      "3\n",
      "True\n",
      "Correct = 3  rounds\n",
      "Player selection: scissor\n",
      "CPU selection: scissors\n",
      "CPU choice =  scissors\n",
      "Player choice =  scissor\n",
      "This round is a tie\n",
      "CPU score is  0  <<<>>> Player score is  0\n",
      "***********************************\n",
      "Player selection: scissor\n",
      "CPU selection: paper\n",
      "CPU choice =  paper\n",
      "Player choice =  scissor\n",
      "This round is for Player\n",
      "Player score is  1\n",
      "CPU score is  0  <<<>>> Player score is  1\n",
      "***********************************\n",
      "Player selection: scissor\n",
      "CPU selection: scissors\n",
      "CPU choice =  scissors\n",
      "Player choice =  scissor\n",
      "This round is a tie\n",
      "CPU score is  0  <<<>>> Player score is  1\n",
      "***********************************\n",
      "Player selection: scissor\n",
      "CPU selection: paper\n",
      "CPU choice =  paper\n",
      "Player choice =  scissor\n",
      "This round is for Player\n",
      "Player score is  2\n",
      "CPU score is  0  <<<>>> Player score is  2\n",
      "***********************************\n"
     ]
    }
   ],
   "source": [
    "print(\"Please enter the maximum number of rounds to play in this game. It must be an odd number.\")\n",
    "correct_num=0\n",
    "while (correct_num==0):\n",
    "    n_rounds=int(input())\n",
    "    print(n_rounds%2==1 & n_rounds>0)\n",
    "    if (n_rounds%2==1 & n_rounds>0):\n",
    "        correct_num=1\n",
    "        print(\"Correct =\", n_rounds,\" rounds\")\n",
    "\n",
    "\n",
    "while ((cpu_score<(int(n_rounds/2)+1)) & (player_score<(int(n_rounds/2)+1)) & ((cpu_score+player_score+tie_score)<n_rounds)):\n",
    "    player_round=player_play()\n",
    "    cpu_round=cpu_play()\n",
    "    winner=who_won_a_round(cpu_round,player_round)\n",
    "    round_result(cpu_round,player_round,winner)\n",
    "    print(\"***********************************\")\n",
    "    "
   ]
  },
  {
   "cell_type": "markdown",
   "metadata": {},
   "source": [
    "#### 11. Print the winner of the game based on who won more rounds.\n",
    "Remember that the game might be tied. "
   ]
  },
  {
   "cell_type": "code",
   "execution_count": 58,
   "metadata": {},
   "outputs": [
    {
     "name": "stdout",
     "output_type": "stream",
     "text": [
      "The winner is the PLAYER\n"
     ]
    }
   ],
   "source": [
    "if (cpu_score>player_score):\n",
    "    print(\"The winner is the CPU\")\n",
    "elif (cpu_score<player_score):\n",
    "    print(\"The winner is the PLAYER\")\n",
    "else:\n",
    "    print(\"A tie, there is no winner\")"
   ]
  },
  {
   "cell_type": "markdown",
   "metadata": {},
   "source": [
    "# Bonus: Rock, Paper, Scissors, Lizard & Spock\n",
    "![](images/rpsls.jpg)\n",
    "\n",
    "In this challenge, you need to improve the previous game by adding two new options. To know more about the rules of the improved version of rock, paper, scissors, check this [link](http://www.samkass.com/theories/RPSSL.html). \n",
    "\n",
    "In addition, you will also need to improve how the game interacts with the player: the number of rounds to play, which must be an odd number, will be requested to the user until a valid number is entered. Define a new function to make that request.\n",
    "\n",
    "**Hint**: Try to reuse the code that you already coded in the previous challenge. If your code is efficient, this bonus will only consist of simple modifications to the original game."
   ]
  },
  {
   "cell_type": "code",
   "execution_count": 60,
   "metadata": {},
   "outputs": [
    {
     "name": "stdout",
     "output_type": "stream",
     "text": [
      "Please enter the maximum number of rounds to play in this game. It must be an odd number.\n",
      "3\n",
      "Correct = 3  rounds\n",
      "Please select your choice (1,2,3,4,5):\n",
      " 1 = rock\n",
      " 2 = paper\n",
      " 3 = scissor\n",
      " 4 = lizard\n",
      " 5 = spock\n",
      "\n",
      "4\n",
      "Player selection: lizard\n",
      "CPU selection: rock\n",
      "CPU choice =  rock\n",
      "Player choice =  lizard\n",
      "This round is for CPU\n",
      "CPU score is  1  <<<>>> Player score is  0\n",
      "***********************************\n",
      "Please select your choice (1,2,3,4,5):\n",
      " 1 = rock\n",
      " 2 = paper\n",
      " 3 = scissor\n",
      " 4 = lizard\n",
      " 5 = spock\n",
      "\n",
      "2\n",
      "Player selection: paper\n",
      "CPU selection: scissors\n",
      "CPU choice =  scissors\n",
      "Player choice =  paper\n",
      "This round is a tie\n",
      "CPU score is  1  <<<>>> Player score is  0\n",
      "***********************************\n",
      "Please select your choice (1,2,3,4,5):\n",
      " 1 = rock\n",
      " 2 = paper\n",
      " 3 = scissor\n",
      " 4 = lizard\n",
      " 5 = spock\n",
      "\n",
      "2\n",
      "Player selection: paper\n",
      "CPU selection: paper\n",
      "CPU choice =  paper\n",
      "Player choice =  paper\n",
      "This round is a tie\n",
      "CPU score is  1  <<<>>> Player score is  0\n",
      "***********************************\n",
      "The winner is the CPU\n"
     ]
    }
   ],
   "source": [
    "from random import choice\n",
    "\n",
    "gesture=['rock','paper','scissors','lizard','spock']\n",
    "\n",
    "n_rounds=0\n",
    "\n",
    "rounds_to_win=0\n",
    "\n",
    "\n",
    "cpu_score=0\n",
    "player_score=0\n",
    "tie_score=0\n",
    "\n",
    "def cpu_play():\n",
    "    cpu_selection=choice(gesture)\n",
    "    print(\"CPU selection:\", cpu_selection)\n",
    "    return cpu_selection\n",
    "\n",
    "def player_play():\n",
    "    player_choice=0\n",
    "    while ((player_choice!=1) & (player_choice!=2) & (player_choice!=3) & (player_choice!=4) & (player_choice!=5)):\n",
    "        print(\"Please select your choice (1,2,3,4,5):\\n 1 = rock\\n 2 = paper\\n 3 = scissor\\n 4 = lizard\\n 5 = spock\\n\")\n",
    "        player_choice=int(input())\n",
    "    if (player_choice==1):\n",
    "        player_selection='rock'\n",
    "    elif (player_choice==2):\n",
    "        player_selection='paper'\n",
    "    elif (player_choice==3):\n",
    "        player_selection='scissors'\n",
    "    elif (player_choice==4):\n",
    "        player_selection='lizard'\n",
    "    else:\n",
    "        player_selection='spock'\n",
    "    print(\"Player selection:\", player_selection)\n",
    "    return player_selection\n",
    "\n",
    "def who_won_a_round(cpu_round,player_round):\n",
    "    if (cpu_round=='rock'):\n",
    "        if (player_round=='rock'):\n",
    "            return 0\n",
    "        elif ((player_round=='paper') | (player_round=='spock')):\n",
    "            return 2\n",
    "        elif ((player_round=='scissors') | (player_round=='lizard')):\n",
    "            return 1\n",
    "    elif (cpu_round=='paper'):\n",
    "        if ((player_round=='rock') | (player_round=='spock')):\n",
    "            return 1\n",
    "        elif (player_round=='paper'):\n",
    "            return 0\n",
    "        elif ((player_round=='scissors') | (player_round=='lizard')):\n",
    "            return 2\n",
    "    elif (cpu_round=='scissor'):\n",
    "        if ((player_round=='rock') | (player_round=='spock')):\n",
    "            return 2\n",
    "        elif ((player_round=='paper') | (player_round=='lizard')):\n",
    "            return 1\n",
    "        elif (player_round=='scissors'):\n",
    "            return 0\n",
    "    elif (cpu_round=='spock'):\n",
    "        if ((player_round=='rock') | (player_round=='scissors')):\n",
    "            return 2\n",
    "        elif ((player_round=='paper') | (player_round=='lizard')):\n",
    "            return 1\n",
    "        elif (player_round=='spock'):\n",
    "            return 0\n",
    "    elif (cpu_round=='lizard'):\n",
    "        if ((player_round=='paper') | (player_round=='spock')):\n",
    "            return 2\n",
    "        elif ((player_round=='rock') | (player_round=='scissor')):\n",
    "            return 1\n",
    "        elif (player_round=='lizard'):\n",
    "            return 0\n",
    "\n",
    "def round_result(choice_compu,choice_play,winner):\n",
    "\tglobal cpu_score\n",
    "\tglobal player_score\n",
    "\tglobal tie_score\n",
    "\tprint(\"CPU choice = \",choice_compu)\n",
    "\tprint(\"Player choice = \",choice_play)\n",
    "\tif (winner==1):\n",
    "\t\tprint(\"This round is for CPU\")\n",
    "\t\tcpu_score=cpu_score+1\n",
    "\telif (winner==2):\n",
    "\t\tprint(\"This round is for Player\")\n",
    "\t\tplayer_score=player_score+1\n",
    "\t\tprint(\"Player score is \",player_score)\n",
    "\telse:\n",
    "\t\tprint(\"This round is a tie\")\n",
    "\t\ttie_score=tie_score+1\n",
    "\tprint(\"CPU score is \",cpu_score, \" <<<>>> Player score is \",player_score)\n",
    "    \n",
    "\n",
    "print(\"Please enter the maximum number of rounds to play in this game. It must be an odd number.\")\n",
    "correct_num=0\n",
    "while (correct_num==0):\n",
    "    n_rounds=int(input())\n",
    "    if (n_rounds%2==1 & n_rounds>0):\n",
    "        correct_num=1\n",
    "        print(\"Correct =\", n_rounds,\" rounds\")\n",
    "\n",
    "\n",
    "while ((cpu_score<(int(n_rounds/2)+1)) & (player_score<(int(n_rounds/2)+1)) & ((cpu_score+player_score+tie_score)<n_rounds)):\n",
    "    player_round=player_play()\n",
    "    cpu_round=cpu_play()\n",
    "    winner=who_won_a_round(cpu_round,player_round)\n",
    "    round_result(cpu_round,player_round,winner)\n",
    "    print(\"***********************************\")\n",
    "\n",
    "if (cpu_score>player_score):\n",
    "    print(\"The winner is the CPU\")\n",
    "elif (cpu_score<player_score):\n",
    "    print(\"The winner is the PLAYER\")\n",
    "else:\n",
    "    print(\"A tie, there is no winner\")\n",
    "    \n",
    "    "
   ]
  },
  {
   "cell_type": "code",
   "execution_count": null,
   "metadata": {},
   "outputs": [],
   "source": []
  }
 ],
 "metadata": {
  "kernelspec": {
   "display_name": "Python 3",
   "language": "python",
   "name": "python3"
  },
  "language_info": {
   "codemirror_mode": {
    "name": "ipython",
    "version": 3
   },
   "file_extension": ".py",
   "mimetype": "text/x-python",
   "name": "python",
   "nbconvert_exporter": "python",
   "pygments_lexer": "ipython3",
   "version": "3.7.7"
  }
 },
 "nbformat": 4,
 "nbformat_minor": 2
}
