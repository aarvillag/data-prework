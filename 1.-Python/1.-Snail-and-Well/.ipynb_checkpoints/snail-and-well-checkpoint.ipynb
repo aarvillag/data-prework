{
 "cells": [
  {
   "cell_type": "markdown",
   "metadata": {},
   "source": [
    "<img src=\"https://bit.ly/2VnXWr2\" width=\"100\" align=\"left\">"
   ]
  },
  {
   "cell_type": "markdown",
   "metadata": {},
   "source": [
    "# The Snail and the Well\n",
    "\n",
    "A snail falls at the bottom of a 125 cm well. Each day the snail rises 30 cm. But at night, while sleeping, slides 20 cm because the walls are wet. How many days does it take for the snail to escape the well?\n",
    "\n",
    "**Hint**: The snail gets out of the well when it surpasses the 125cm of height.\n",
    "\n",
    "## Tools\n",
    "\n",
    "1. Loop: **while**\n",
    "2. Conditional statements: **if-else**\n",
    "3. Function: **print()**\n",
    "\n",
    "## Tasks\n",
    "\n",
    "#### 1. Assign the challenge data to variables with representative names: `well_height`, `daily_distance`, `nightly_distance` and `snail_position`."
   ]
  },
  {
   "cell_type": "code",
   "execution_count": 2,
   "metadata": {},
   "outputs": [],
   "source": [
    "well_height=125\n",
    "daily_distance=30\n",
    "nightly_distance=-20\n",
    "snail_position=0"
   ]
  },
  {
   "cell_type": "markdown",
   "metadata": {},
   "source": [
    "#### 2. Create a variable `days` to keep count of the days that pass until the snail escapes the well. "
   ]
  },
  {
   "cell_type": "code",
   "execution_count": 3,
   "metadata": {},
   "outputs": [],
   "source": [
    "days=0"
   ]
  },
  {
   "cell_type": "markdown",
   "metadata": {},
   "source": [
    "#### 3. Find the solution to the challenge using the variables defined above. "
   ]
  },
  {
   "cell_type": "code",
   "execution_count": 4,
   "metadata": {},
   "outputs": [
    {
     "name": "stdout",
     "output_type": "stream",
     "text": [
      "Day: 1  Snail Position=  10\n",
      "Day: 2  Snail Position=  20\n",
      "Day: 3  Snail Position=  30\n",
      "Day: 4  Snail Position=  40\n",
      "Day: 5  Snail Position=  50\n",
      "Day: 6  Snail Position=  60\n",
      "Day: 7  Snail Position=  70\n",
      "Day: 8  Snail Position=  80\n",
      "Day: 9  Snail Position=  90\n",
      "Day: 10  Snail Position=  100\n",
      "Day: 11  Snail Position=  110\n",
      "Day: 12  Snail Position=  120\n",
      "Day: 13  Snail Position=  130\n"
     ]
    }
   ],
   "source": [
    "while (snail_position<well_height):\n",
    "    days=days+1\n",
    "    snail_position=snail_position+daily_distance+nightly_distance\n",
    "    print(\"Day:\", days, \" Snail Position= \", snail_position)"
   ]
  },
  {
   "cell_type": "markdown",
   "metadata": {},
   "source": [
    "#### 4. Print the solution."
   ]
  },
  {
   "cell_type": "code",
   "execution_count": 5,
   "metadata": {},
   "outputs": [
    {
     "name": "stdout",
     "output_type": "stream",
     "text": [
      "The snail gets out of the well after  13  days\n"
     ]
    }
   ],
   "source": [
    "print(\"The snail gets out of the well after \", days, \" days\")"
   ]
  },
  {
   "cell_type": "markdown",
   "metadata": {},
   "source": [
    "## Bonus\n",
    "The distance traveled by the snail each day is now defined by a list.\n",
    "```\n",
    "advance_cm = [30, 21, 33, 77, 44, 45, 23, 45, 12, 34, 55]\n",
    "```\n",
    "On the first day, the snail rises 30cm but during the night it slides 20cm. On the second day, the snail rises 21cm but during the night it slides 20cm, and so on. \n",
    "\n",
    "#### 1. How many days does it take for the snail to escape the well?\n",
    "Follow the same guidelines as in the previous challenge.\n",
    "\n",
    "**Hint**: Remember that the snail gets out of the well when it surpasses the 125cm of height."
   ]
  },
  {
   "cell_type": "code",
   "execution_count": 6,
   "metadata": {},
   "outputs": [
    {
     "name": "stdout",
     "output_type": "stream",
     "text": [
      "Day: 1 Snail Position= 10\n",
      "Day: 2 Snail Position= 11\n",
      "Day: 3 Snail Position= 24\n",
      "Day: 4 Snail Position= 81\n",
      "Day: 5 Snail Position= 105\n",
      ".....\n",
      "The snail gets out of the well after  5  days\n"
     ]
    }
   ],
   "source": [
    "well_height=125\n",
    "advance_cm = [30, 21, 33, 77, 44, 45, 23, 45, 12, 34, 55]\n",
    "nightly_distance=-20\n",
    "snail_position=0\n",
    "daily_distance=0\n",
    "days=0\n",
    "days_taken=0\n",
    "\n",
    "for daily_distance in advance_cm:\n",
    "    days=days+1\n",
    "    snail_position=snail_position+daily_distance+nightly_distance\n",
    "    if (snail_position<well_height):\n",
    "        print(\"Day:\", days, \"Snail Position=\", snail_position)\n",
    "        days_taken=days\n",
    "print(\".....\\nThe snail gets out of the well after \", days_taken, \" days\")\n"
   ]
  },
  {
   "cell_type": "markdown",
   "metadata": {},
   "source": [
    "#### 2. What is its maximum displacement in one day? And its minimum? Calculate the displacement using only the travel distance of the days used to get out of the well. \n",
    "**Hint**: Remember that displacement means the total distance risen taking into account that the snail slides at night.  "
   ]
  },
  {
   "cell_type": "code",
   "execution_count": 7,
   "metadata": {},
   "outputs": [
    {
     "name": "stdout",
     "output_type": "stream",
     "text": [
      "[10, 1, 13, 57, 24]\n",
      "Maximum daily displacement= 57\n",
      "Minimum daily displacement= 1\n"
     ]
    }
   ],
   "source": [
    "well_height=125\n",
    "advance_cm = [30, 21, 33, 77, 44, 45, 23, 45, 12, 34, 55]\n",
    "nightly_distance=-20\n",
    "snail_position=0\n",
    "daily_distance=0\n",
    "days=0\n",
    "days_taken=0\n",
    "maximo=0\n",
    "minimo=125\n",
    "daily_displacement = []\n",
    "\n",
    "for daily_distance in advance_cm:\n",
    "    days=days+1\n",
    "    displacement=daily_distance+nightly_distance\n",
    "    snail_position=snail_position+displacement\n",
    "    if (snail_position<well_height):\n",
    "        days_taken=days\n",
    "        daily_displacement.append(displacement)\n",
    "        \n",
    "print(daily_displacement)\n",
    "print(\"Maximum daily displacement=\", max(daily_displacement))\n",
    "print(\"Minimum daily displacement=\", min(daily_displacement))\n",
    "\n"
   ]
  },
  {
   "cell_type": "markdown",
   "metadata": {},
   "source": [
    "#### 3. What is its average progress? Take into account the snail slides at night."
   ]
  },
  {
   "cell_type": "code",
   "execution_count": 8,
   "metadata": {},
   "outputs": [
    {
     "name": "stdout",
     "output_type": "stream",
     "text": [
      "21.0\n"
     ]
    }
   ],
   "source": [
    "media=sum(daily_displacement)/len(daily_displacement)\n",
    "print(media)"
   ]
  },
  {
   "cell_type": "markdown",
   "metadata": {},
   "source": [
    "#### 4. What is the standard deviation of its displacement? Take into account the snail slides at night."
   ]
  },
  {
   "cell_type": "code",
   "execution_count": 9,
   "metadata": {},
   "outputs": [
    {
     "name": "stdout",
     "output_type": "stream",
     "text": [
      "Standard deviation= 19.44222209522358\n"
     ]
    }
   ],
   "source": [
    "media=sum(daily_displacement)/len(daily_displacement)\n",
    "stand_deviation=0\n",
    "\n",
    "for movement in daily_displacement:\n",
    "    stand_deviation=stand_deviation+(movement-media)**2\n",
    "    \n",
    "stand_deviation=(stand_deviation/len(daily_displacement))**(1/2)\n",
    "\n",
    "print(\"Standard deviation=\", stand_deviation)"
   ]
  },
  {
   "cell_type": "code",
   "execution_count": null,
   "metadata": {},
   "outputs": [],
   "source": []
  }
 ],
 "metadata": {
  "kernelspec": {
   "display_name": "Python 3",
   "language": "python",
   "name": "python3"
  },
  "language_info": {
   "codemirror_mode": {
    "name": "ipython",
    "version": 3
   },
   "file_extension": ".py",
   "mimetype": "text/x-python",
   "name": "python",
   "nbconvert_exporter": "python",
   "pygments_lexer": "ipython3",
   "version": "3.7.7"
  }
 },
 "nbformat": 4,
 "nbformat_minor": 2
}
